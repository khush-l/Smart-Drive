{
 "cells": [
  {
   "cell_type": "code",
   "execution_count": 2,
   "metadata": {},
   "outputs": [
    {
     "ename": "ModuleNotFoundError",
     "evalue": "No module named 'pandas'",
     "output_type": "error",
     "traceback": [
      "\u001b[0;31m---------------------------------------------------------------------------\u001b[0m",
      "\u001b[0;31mModuleNotFoundError\u001b[0m                       Traceback (most recent call last)",
      "Cell \u001b[0;32mIn[2], line 1\u001b[0m\n\u001b[0;32m----> 1\u001b[0m \u001b[38;5;28;01mimport\u001b[39;00m\u001b[38;5;250m \u001b[39m\u001b[38;5;21;01mpandas\u001b[39;00m\u001b[38;5;250m \u001b[39m\u001b[38;5;28;01mas\u001b[39;00m\u001b[38;5;250m \u001b[39m\u001b[38;5;21;01mpd\u001b[39;00m\n\u001b[1;32m      2\u001b[0m \u001b[38;5;28;01mimport\u001b[39;00m\u001b[38;5;250m \u001b[39m\u001b[38;5;21;01mfolium\u001b[39;00m\n\u001b[1;32m      3\u001b[0m \u001b[38;5;28;01mfrom\u001b[39;00m\u001b[38;5;250m \u001b[39m\u001b[38;5;21;01mfolium\u001b[39;00m\u001b[38;5;21;01m.\u001b[39;00m\u001b[38;5;21;01mplugins\u001b[39;00m\u001b[38;5;250m \u001b[39m\u001b[38;5;28;01mimport\u001b[39;00m HeatMap\n",
      "\u001b[0;31mModuleNotFoundError\u001b[0m: No module named 'pandas'"
     ]
    }
   ],
   "source": [
    "\n",
    "import pandas as pd\n",
    "import folium\n",
    "from folium.plugins import HeatMap\n",
    "import numpy as np\n",
    "\n",
    "\n",
    "filename = 'data.csv'\n",
    "data = pd.read_csv(filename)\n",
    "\n",
    "data = data[['latitude', 'longitude', 'crash_sev_id', 'Crash timestamp (US/Central)']]\n",
    "data = data.dropna()\n",
    "\n",
    "from sklearn.cluster import DBSCAN\n",
    "from sklearn.preprocessing import StandardScaler\n",
    "import matplotlib.pyplot as plt\n",
    "\n",
    "scaler = StandardScaler()\n",
    "coords_scaled = scaler.fit_transform(data[['latitude', 'longitude']].values)\n",
    "\n",
    "\n",
    "def train_cluster_model(data):\n",
    "    model = DBSCAN(eps=0.005, min_samples=10).fit(coords_scaled)  # Reduced eps for tighter clusters\n",
    "    data['Cluster'] = model.labels_\n",
    "    return data, model\n",
    "\n",
    "clustered_data, model = train_cluster_model(data)\n",
    "\n",
    "austin_map = folium.Map(location=[30.2672, -97.7431], zoom_start=12)\n",
    "\n",
    "\n",
    "aggregated_crashes = data.groupby(['latitude', 'longitude']).agg({'crash_sev_id': 'sum'}).reset_index()\n",
    "\n",
    "# Normalize crash severity for dot sizes\n",
    "max_severity = aggregated_crashes['crash_sev_id'].max()\n",
    "aggregated_crashes['size'] = aggregated_crashes['crash_sev_id'].apply(lambda x: (x / max_severity) * 15 + 3)  # Scale dot size\n",
    "\n",
    "# Add crash points to the map with varying dot sizes\n",
    "for _, row in aggregated_crashes.iterrows():\n",
    "    folium.CircleMarker(\n",
    "        location=[row['latitude'], row['longitude']],\n",
    "        radius=row['size'],\n",
    "        color='red',\n",
    "        fill=True,\n",
    "        fill_color='red',\n",
    "        fill_opacity=0.6\n",
    "    ).add_to(austin_map)\n",
    "\n",
    "\n",
    "austin_map.save(\"austin_all_crashes_refined.html\")\n",
    "\n",
    "heat_data = [[row['latitude'], row['longitude'], row['crash_sev_id']] for _, row in aggregated_crashes.iterrows()]\n",
    "heat_map = folium.Map(location=[30.2672, -97.7431], zoom_start=12)\n",
    "HeatMap(heat_data).add_to(heat_map)\n",
    "heat_map.save(\"austin_crash_heatmap_refined.html\")\n",
    "\n",
    "clustered_data.to_csv('processed_crash_data.csv', index=False)"
   ]
  }
 ],
 "metadata": {
  "kernelspec": {
   "display_name": "Python 3",
   "language": "python",
   "name": "python3"
  },
  "language_info": {
   "codemirror_mode": {
    "name": "ipython",
    "version": 3
   },
   "file_extension": ".py",
   "mimetype": "text/x-python",
   "name": "python",
   "nbconvert_exporter": "python",
   "pygments_lexer": "ipython3",
   "version": "3.11.4"
  }
 },
 "nbformat": 4,
 "nbformat_minor": 2
}
